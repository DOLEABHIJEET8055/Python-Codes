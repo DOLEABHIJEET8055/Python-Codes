{
 "cells": [
  {
   "cell_type": "code",
   "execution_count": null,
   "id": "02d88f55-49f9-4544-b443-d6967abf03a0",
   "metadata": {},
   "outputs": [
    {
     "name": "stdout",
     "output_type": "stream",
     "text": [
      "\n",
      " Book menu:\n",
      "1.add course\n",
      "2.add grade\n",
      "3.calculate overall grade\n",
      "4.view grades\n",
      "5.view average grade\n",
      "6.quit\n"
     ]
    }
   ],
   "source": [
    "import grade_book\n",
    "\n",
    "def main():\n",
    "    courses = {}\n",
    "\n",
    "    while True:\n",
    "        print(\"\\n Book menu:\")\n",
    "        print(\"1.add course\")\n",
    "        print(\"2.add grade\")\n",
    "        print(\"3.calculate overall grade\")\n",
    "        print(\"4.view grades\")\n",
    "        print(\"5.view average grade\")\n",
    "        print(\"6.quit\")\n",
    "\n",
    "        choice = input(\"Enter your choice:\")\n",
    "\n",
    "        if choice == '1':\n",
    "            course_name = input(\"Enter your course name :\")\n",
    "            grade_book.add_course(courses, course_name)\n",
    "        elif choice == \"2\":\n",
    "            course_name = input(\"Course course name:\")\n",
    "            grade = float(input(\"Enter Grade:\"))\n",
    "            grade_book.add_grade(courses, course_name, grade)\n",
    "            \n",
    "        elif choice == \"3\":\n",
    "            course_name =  input(\"Enter Course Name:\")\n",
    "            overall_grade = grade_book.calculate_overall_grade(courses, course_name)\n",
    "            if overall_grade is not None:\n",
    "                print(f\"Overall Grade for {course_name}: {overall_grade:.2f}\")\n",
    "        elif choice == \"4\":\n",
    "            course_name = input(\"Enter Course name:\")\n",
    "            grade_book.view_grades(courses, course_name)\n",
    "        elif choice == \"5\":\n",
    "            course_name = input(\"Enter Course name :\")\n",
    "            grade_book.view_average_grade(courses, course_name)\n",
    "        elif choice == \"6\":\n",
    "            break\n",
    "        else:\n",
    "            print(\"Invalid Choice. Please try again.\")\n",
    "\n",
    "if __name__ == \"__main__\":\n",
    "    main()"
   ]
  },
  {
   "cell_type": "code",
   "execution_count": null,
   "id": "5c563e74-8b55-4f4a-b8cf-26d13302e69e",
   "metadata": {},
   "outputs": [],
   "source": []
  }
 ],
 "metadata": {
  "kernelspec": {
   "display_name": "Python 3 (ipykernel)",
   "language": "python",
   "name": "python3"
  },
  "language_info": {
   "codemirror_mode": {
    "name": "ipython",
    "version": 3
   },
   "file_extension": ".py",
   "mimetype": "text/x-python",
   "name": "python",
   "nbconvert_exporter": "python",
   "pygments_lexer": "ipython3",
   "version": "3.12.4"
  }
 },
 "nbformat": 4,
 "nbformat_minor": 5
}
